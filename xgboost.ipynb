{
 "cells": [
  {
   "cell_type": "code",
   "execution_count": 17,
   "metadata": {},
   "outputs": [],
   "source": [
    "#loading train and test datasets\n",
    "train = pd.read_csv(\"/Users/arg000m/Downloads/travel_time/train.csv\")\n",
    "test = pd.read_csv(\"/Users/arg000m/Downloads/travel_time/test.csv\")"
   ]
  },
  {
   "cell_type": "code",
   "execution_count": 18,
   "metadata": {},
   "outputs": [],
   "source": [
    "# loading libraries \n",
    "import numpy as np # linear algebra\n",
    "import pandas as pd # data processing, CSV file I/O (e.g. pd.read_csv)\n",
    "import matplotlib.pyplot as plt\n",
    "import seaborn as sns\n",
    "from sklearn import model_selection, preprocessing, metrics\n",
    "import xgboost as xgb\n",
    "from haversine import haversine\n",
    "color = sns.color_palette()\n",
    "%matplotlib inline\n",
    "pd.options.mode.chained_assignment = None  # default='warn'\n",
    "pd.set_option('display.max_columns', 500)"
   ]
  },
  {
   "cell_type": "code",
   "execution_count": 19,
   "metadata": {},
   "outputs": [
    {
     "data": {
      "text/html": [
       "<div>\n",
       "<table border=\"1\" class=\"dataframe\">\n",
       "  <thead>\n",
       "    <tr style=\"text-align: right;\">\n",
       "      <th></th>\n",
       "      <th>row_id</th>\n",
       "      <th>start_lng</th>\n",
       "      <th>start_lat</th>\n",
       "      <th>end_lng</th>\n",
       "      <th>end_lat</th>\n",
       "      <th>start_timestamp</th>\n",
       "      <th>duration</th>\n",
       "    </tr>\n",
       "  </thead>\n",
       "  <tbody>\n",
       "    <tr>\n",
       "      <th>0</th>\n",
       "      <td>0</td>\n",
       "      <td>-74.009087</td>\n",
       "      <td>40.713818</td>\n",
       "      <td>-74.004326</td>\n",
       "      <td>40.719986</td>\n",
       "      <td>1420950819</td>\n",
       "      <td>112</td>\n",
       "    </tr>\n",
       "    <tr>\n",
       "      <th>1</th>\n",
       "      <td>1</td>\n",
       "      <td>-73.971176</td>\n",
       "      <td>40.762428</td>\n",
       "      <td>-74.004181</td>\n",
       "      <td>40.742653</td>\n",
       "      <td>1420950819</td>\n",
       "      <td>1159</td>\n",
       "    </tr>\n",
       "    <tr>\n",
       "      <th>2</th>\n",
       "      <td>2</td>\n",
       "      <td>-73.994957</td>\n",
       "      <td>40.745079</td>\n",
       "      <td>-73.999939</td>\n",
       "      <td>40.734650</td>\n",
       "      <td>1421377541</td>\n",
       "      <td>281</td>\n",
       "    </tr>\n",
       "    <tr>\n",
       "      <th>3</th>\n",
       "      <td>3</td>\n",
       "      <td>-73.991127</td>\n",
       "      <td>40.750080</td>\n",
       "      <td>-73.988609</td>\n",
       "      <td>40.734890</td>\n",
       "      <td>1421377542</td>\n",
       "      <td>636</td>\n",
       "    </tr>\n",
       "    <tr>\n",
       "      <th>4</th>\n",
       "      <td>4</td>\n",
       "      <td>-73.945511</td>\n",
       "      <td>40.773724</td>\n",
       "      <td>-73.987434</td>\n",
       "      <td>40.755707</td>\n",
       "      <td>1422173586</td>\n",
       "      <td>705</td>\n",
       "    </tr>\n",
       "  </tbody>\n",
       "</table>\n",
       "</div>"
      ],
      "text/plain": [
       "   row_id  start_lng  start_lat    end_lng    end_lat  start_timestamp  \\\n",
       "0       0 -74.009087  40.713818 -74.004326  40.719986       1420950819   \n",
       "1       1 -73.971176  40.762428 -74.004181  40.742653       1420950819   \n",
       "2       2 -73.994957  40.745079 -73.999939  40.734650       1421377541   \n",
       "3       3 -73.991127  40.750080 -73.988609  40.734890       1421377542   \n",
       "4       4 -73.945511  40.773724 -73.987434  40.755707       1422173586   \n",
       "\n",
       "   duration  \n",
       "0       112  \n",
       "1      1159  \n",
       "2       281  \n",
       "3       636  \n",
       "4       705  "
      ]
     },
     "execution_count": 19,
     "metadata": {},
     "output_type": "execute_result"
    }
   ],
   "source": [
    "train.head()"
   ]
  },
  {
   "cell_type": "code",
   "execution_count": 20,
   "metadata": {},
   "outputs": [
    {
     "data": {
      "text/html": [
       "<div>\n",
       "<table border=\"1\" class=\"dataframe\">\n",
       "  <thead>\n",
       "    <tr style=\"text-align: right;\">\n",
       "      <th></th>\n",
       "      <th>row_id</th>\n",
       "      <th>start_lng</th>\n",
       "      <th>start_lat</th>\n",
       "      <th>end_lng</th>\n",
       "      <th>end_lat</th>\n",
       "      <th>start_timestamp</th>\n",
       "      <th>duration</th>\n",
       "    </tr>\n",
       "  </thead>\n",
       "  <tbody>\n",
       "    <tr>\n",
       "      <th>count</th>\n",
       "      <td>12905715.000000</td>\n",
       "      <td>12905715.000000</td>\n",
       "      <td>12905715.000000</td>\n",
       "      <td>12905715.000000</td>\n",
       "      <td>12905715.000000</td>\n",
       "      <td>1.290572e+07</td>\n",
       "      <td>12905715.000000</td>\n",
       "    </tr>\n",
       "    <tr>\n",
       "      <th>mean</th>\n",
       "      <td>6452857.000000</td>\n",
       "      <td>-73.973822</td>\n",
       "      <td>40.750647</td>\n",
       "      <td>-73.973579</td>\n",
       "      <td>40.751406</td>\n",
       "      <td>1.435380e+09</td>\n",
       "      <td>842.141953</td>\n",
       "    </tr>\n",
       "    <tr>\n",
       "      <th>std</th>\n",
       "      <td>3725559.159012</td>\n",
       "      <td>0.038003</td>\n",
       "      <td>0.027897</td>\n",
       "      <td>0.035899</td>\n",
       "      <td>0.031921</td>\n",
       "      <td>9.079600e+06</td>\n",
       "      <td>712.748918</td>\n",
       "    </tr>\n",
       "    <tr>\n",
       "      <th>min</th>\n",
       "      <td>0.000000</td>\n",
       "      <td>-74.514618</td>\n",
       "      <td>40.368916</td>\n",
       "      <td>-74.517853</td>\n",
       "      <td>40.368874</td>\n",
       "      <td>1.420099e+09</td>\n",
       "      <td>1.000000</td>\n",
       "    </tr>\n",
       "    <tr>\n",
       "      <th>25%</th>\n",
       "      <td>3226428.500000</td>\n",
       "      <td>-73.992058</td>\n",
       "      <td>40.736973</td>\n",
       "      <td>-73.991425</td>\n",
       "      <td>40.735523</td>\n",
       "      <td>1.427509e+09</td>\n",
       "      <td>400.000000</td>\n",
       "    </tr>\n",
       "    <tr>\n",
       "      <th>50%</th>\n",
       "      <td>6452857.000000</td>\n",
       "      <td>-73.981956</td>\n",
       "      <td>40.753590</td>\n",
       "      <td>-73.980087</td>\n",
       "      <td>40.754078</td>\n",
       "      <td>1.434868e+09</td>\n",
       "      <td>665.000000</td>\n",
       "    </tr>\n",
       "    <tr>\n",
       "      <th>75%</th>\n",
       "      <td>9679285.500000</td>\n",
       "      <td>-73.967735</td>\n",
       "      <td>40.767925</td>\n",
       "      <td>-73.963509</td>\n",
       "      <td>40.769054</td>\n",
       "      <td>1.443342e+09</td>\n",
       "      <td>1076.000000</td>\n",
       "    </tr>\n",
       "    <tr>\n",
       "      <th>max</th>\n",
       "      <td>12905714.000000</td>\n",
       "      <td>-73.414452</td>\n",
       "      <td>41.031418</td>\n",
       "      <td>-73.414352</td>\n",
       "      <td>41.031509</td>\n",
       "      <td>1.451635e+09</td>\n",
       "      <td>43178.000000</td>\n",
       "    </tr>\n",
       "  </tbody>\n",
       "</table>\n",
       "</div>"
      ],
      "text/plain": [
       "                row_id        start_lng        start_lat          end_lng  \\\n",
       "count  12905715.000000  12905715.000000  12905715.000000  12905715.000000   \n",
       "mean    6452857.000000       -73.973822        40.750647       -73.973579   \n",
       "std     3725559.159012         0.038003         0.027897         0.035899   \n",
       "min           0.000000       -74.514618        40.368916       -74.517853   \n",
       "25%     3226428.500000       -73.992058        40.736973       -73.991425   \n",
       "50%     6452857.000000       -73.981956        40.753590       -73.980087   \n",
       "75%     9679285.500000       -73.967735        40.767925       -73.963509   \n",
       "max    12905714.000000       -73.414452        41.031418       -73.414352   \n",
       "\n",
       "               end_lat  start_timestamp         duration  \n",
       "count  12905715.000000     1.290572e+07  12905715.000000  \n",
       "mean         40.751406     1.435380e+09       842.141953  \n",
       "std           0.031921     9.079600e+06       712.748918  \n",
       "min          40.368874     1.420099e+09         1.000000  \n",
       "25%          40.735523     1.427509e+09       400.000000  \n",
       "50%          40.754078     1.434868e+09       665.000000  \n",
       "75%          40.769054     1.443342e+09      1076.000000  \n",
       "max          41.031509     1.451635e+09     43178.000000  "
      ]
     },
     "execution_count": 20,
     "metadata": {},
     "output_type": "execute_result"
    }
   ],
   "source": [
    "# basic data summary\n",
    "train.describe()"
   ]
  },
  {
   "cell_type": "code",
   "execution_count": 21,
   "metadata": {},
   "outputs": [
    {
     "data": {
      "text/plain": [
       "(row_id             0\n",
       " start_lng          0\n",
       " start_lat          0\n",
       " end_lng            0\n",
       " end_lat            0\n",
       " start_timestamp    0\n",
       " duration           0\n",
       " dtype: int64, row_id             0\n",
       " start_lng          0\n",
       " start_lat          0\n",
       " end_lng            0\n",
       " end_lat            0\n",
       " start_timestamp    0\n",
       " dtype: int64)"
      ]
     },
     "execution_count": 21,
     "metadata": {},
     "output_type": "execute_result"
    }
   ],
   "source": [
    "# checking for null values \n",
    "train.isnull().sum(), test.isnull().sum()"
   ]
  },
  {
   "cell_type": "code",
   "execution_count": 22,
   "metadata": {},
   "outputs": [
    {
     "data": {
      "text/plain": [
       "(12905715, 1434344, 7, 6)"
      ]
     },
     "execution_count": 22,
     "metadata": {},
     "output_type": "execute_result"
    }
   ],
   "source": [
    "# train, test, #train_col, # test_col\n",
    "train.shape[0], test.shape[0], train.shape[1], test.shape[1]\n"
   ]
  },
  {
   "cell_type": "code",
   "execution_count": 23,
   "metadata": {},
   "outputs": [
    {
     "data": {
      "text/plain": [
       "True"
      ]
     },
     "execution_count": 23,
     "metadata": {},
     "output_type": "execute_result"
    }
   ],
   "source": [
    "#checking for unique ID column\n",
    "train.row_id.nunique() == train.shape[0]\n"
   ]
  },
  {
   "cell_type": "code",
   "execution_count": 24,
   "metadata": {},
   "outputs": [
    {
     "data": {
      "text/plain": [
       "1434344"
      ]
     },
     "execution_count": 24,
     "metadata": {},
     "output_type": "execute_result"
    }
   ],
   "source": [
    "# Getting the common Id's. From the intersection value we can conclude that the testing id's are a subset of training \n",
    "# ID's\n",
    "import numpy as np\n",
    "len(np.intersect1d(train.row_id.values, test.row_id.values))"
   ]
  },
  {
   "cell_type": "code",
   "execution_count": 25,
   "metadata": {},
   "outputs": [
    {
     "data": {
      "text/plain": [
       "True"
      ]
     },
     "execution_count": 25,
     "metadata": {},
     "output_type": "execute_result"
    }
   ],
   "source": [
    "# checking for missing values \n",
    "train.count().min() == train.shape[0] and test.count().min() == test.shape[0]"
   ]
  },
  {
   "cell_type": "code",
   "execution_count": 26,
   "metadata": {},
   "outputs": [],
   "source": [
    "# converting unix time to standard time\n",
    "import datetime\n",
    "\n",
    "train['start_times'] = pd.to_datetime(train['start_timestamp'],unit='s')\n",
    "\n",
    "test['start_times'] = pd.to_datetime(test['start_timestamp'],unit='s')"
   ]
  },
  {
   "cell_type": "code",
   "execution_count": 27,
   "metadata": {},
   "outputs": [
    {
     "data": {
      "text/html": [
       "<div>\n",
       "<table border=\"1\" class=\"dataframe\">\n",
       "  <thead>\n",
       "    <tr style=\"text-align: right;\">\n",
       "      <th></th>\n",
       "      <th>row_id</th>\n",
       "      <th>start_lng</th>\n",
       "      <th>start_lat</th>\n",
       "      <th>end_lng</th>\n",
       "      <th>end_lat</th>\n",
       "      <th>start_timestamp</th>\n",
       "      <th>duration</th>\n",
       "      <th>start_times</th>\n",
       "    </tr>\n",
       "  </thead>\n",
       "  <tbody>\n",
       "    <tr>\n",
       "      <th>0</th>\n",
       "      <td>0</td>\n",
       "      <td>-74.009087</td>\n",
       "      <td>40.713818</td>\n",
       "      <td>-74.004326</td>\n",
       "      <td>40.719986</td>\n",
       "      <td>1420950819</td>\n",
       "      <td>112</td>\n",
       "      <td>2015-01-11 04:33:39</td>\n",
       "    </tr>\n",
       "    <tr>\n",
       "      <th>1</th>\n",
       "      <td>1</td>\n",
       "      <td>-73.971176</td>\n",
       "      <td>40.762428</td>\n",
       "      <td>-74.004181</td>\n",
       "      <td>40.742653</td>\n",
       "      <td>1420950819</td>\n",
       "      <td>1159</td>\n",
       "      <td>2015-01-11 04:33:39</td>\n",
       "    </tr>\n",
       "    <tr>\n",
       "      <th>2</th>\n",
       "      <td>2</td>\n",
       "      <td>-73.994957</td>\n",
       "      <td>40.745079</td>\n",
       "      <td>-73.999939</td>\n",
       "      <td>40.734650</td>\n",
       "      <td>1421377541</td>\n",
       "      <td>281</td>\n",
       "      <td>2015-01-16 03:05:41</td>\n",
       "    </tr>\n",
       "    <tr>\n",
       "      <th>3</th>\n",
       "      <td>3</td>\n",
       "      <td>-73.991127</td>\n",
       "      <td>40.750080</td>\n",
       "      <td>-73.988609</td>\n",
       "      <td>40.734890</td>\n",
       "      <td>1421377542</td>\n",
       "      <td>636</td>\n",
       "      <td>2015-01-16 03:05:42</td>\n",
       "    </tr>\n",
       "    <tr>\n",
       "      <th>4</th>\n",
       "      <td>4</td>\n",
       "      <td>-73.945511</td>\n",
       "      <td>40.773724</td>\n",
       "      <td>-73.987434</td>\n",
       "      <td>40.755707</td>\n",
       "      <td>1422173586</td>\n",
       "      <td>705</td>\n",
       "      <td>2015-01-25 08:13:06</td>\n",
       "    </tr>\n",
       "  </tbody>\n",
       "</table>\n",
       "</div>"
      ],
      "text/plain": [
       "   row_id  start_lng  start_lat    end_lng    end_lat  start_timestamp  \\\n",
       "0       0 -74.009087  40.713818 -74.004326  40.719986       1420950819   \n",
       "1       1 -73.971176  40.762428 -74.004181  40.742653       1420950819   \n",
       "2       2 -73.994957  40.745079 -73.999939  40.734650       1421377541   \n",
       "3       3 -73.991127  40.750080 -73.988609  40.734890       1421377542   \n",
       "4       4 -73.945511  40.773724 -73.987434  40.755707       1422173586   \n",
       "\n",
       "   duration         start_times  \n",
       "0       112 2015-01-11 04:33:39  \n",
       "1      1159 2015-01-11 04:33:39  \n",
       "2       281 2015-01-16 03:05:41  \n",
       "3       636 2015-01-16 03:05:42  \n",
       "4       705 2015-01-25 08:13:06  "
      ]
     },
     "execution_count": 27,
     "metadata": {},
     "output_type": "execute_result"
    }
   ],
   "source": [
    "train.head()"
   ]
  },
  {
   "cell_type": "code",
   "execution_count": 28,
   "metadata": {},
   "outputs": [
    {
     "data": {
      "text/html": [
       "<div>\n",
       "<table border=\"1\" class=\"dataframe\">\n",
       "  <thead>\n",
       "    <tr style=\"text-align: right;\">\n",
       "      <th></th>\n",
       "      <th>row_id</th>\n",
       "      <th>start_lng</th>\n",
       "      <th>start_lat</th>\n",
       "      <th>end_lng</th>\n",
       "      <th>end_lat</th>\n",
       "      <th>start_timestamp</th>\n",
       "      <th>start_times</th>\n",
       "    </tr>\n",
       "  </thead>\n",
       "  <tbody>\n",
       "    <tr>\n",
       "      <th>0</th>\n",
       "      <td>0</td>\n",
       "      <td>-73.993111</td>\n",
       "      <td>40.724289</td>\n",
       "      <td>-74.000977</td>\n",
       "      <td>40.735222</td>\n",
       "      <td>1422173589</td>\n",
       "      <td>2015-01-25 08:13:09</td>\n",
       "    </tr>\n",
       "    <tr>\n",
       "      <th>1</th>\n",
       "      <td>1</td>\n",
       "      <td>-73.971924</td>\n",
       "      <td>40.762749</td>\n",
       "      <td>-73.965698</td>\n",
       "      <td>40.771427</td>\n",
       "      <td>1420567340</td>\n",
       "      <td>2015-01-06 18:02:20</td>\n",
       "    </tr>\n",
       "    <tr>\n",
       "      <th>2</th>\n",
       "      <td>2</td>\n",
       "      <td>-73.953247</td>\n",
       "      <td>40.765816</td>\n",
       "      <td>-73.952843</td>\n",
       "      <td>40.772453</td>\n",
       "      <td>1420567343</td>\n",
       "      <td>2015-01-06 18:02:23</td>\n",
       "    </tr>\n",
       "    <tr>\n",
       "      <th>3</th>\n",
       "      <td>3</td>\n",
       "      <td>-73.986618</td>\n",
       "      <td>40.739353</td>\n",
       "      <td>-73.949158</td>\n",
       "      <td>40.805161</td>\n",
       "      <td>1420103336</td>\n",
       "      <td>2015-01-01 09:08:56</td>\n",
       "    </tr>\n",
       "    <tr>\n",
       "      <th>4</th>\n",
       "      <td>4</td>\n",
       "      <td>-73.968864</td>\n",
       "      <td>40.757317</td>\n",
       "      <td>-73.982521</td>\n",
       "      <td>40.771305</td>\n",
       "      <td>1420690180</td>\n",
       "      <td>2015-01-08 04:09:40</td>\n",
       "    </tr>\n",
       "  </tbody>\n",
       "</table>\n",
       "</div>"
      ],
      "text/plain": [
       "   row_id  start_lng  start_lat    end_lng    end_lat  start_timestamp  \\\n",
       "0       0 -73.993111  40.724289 -74.000977  40.735222       1422173589   \n",
       "1       1 -73.971924  40.762749 -73.965698  40.771427       1420567340   \n",
       "2       2 -73.953247  40.765816 -73.952843  40.772453       1420567343   \n",
       "3       3 -73.986618  40.739353 -73.949158  40.805161       1420103336   \n",
       "4       4 -73.968864  40.757317 -73.982521  40.771305       1420690180   \n",
       "\n",
       "          start_times  \n",
       "0 2015-01-25 08:13:09  \n",
       "1 2015-01-06 18:02:20  \n",
       "2 2015-01-06 18:02:23  \n",
       "3 2015-01-01 09:08:56  \n",
       "4 2015-01-08 04:09:40  "
      ]
     },
     "execution_count": 28,
     "metadata": {},
     "output_type": "execute_result"
    }
   ],
   "source": [
    " test.head()"
   ]
  },
  {
   "cell_type": "code",
   "execution_count": 29,
   "metadata": {},
   "outputs": [
    {
     "data": {
      "image/png": "[encoded data removed]",
      "text/plain": [
       "<matplotlib.figure.Figure at 0x108fcb510>"
      ]
     },
     "metadata": {},
     "output_type": "display_data"
    }
   ],
   "source": [
    "#checking distribution of the dependent variable\n",
    "import matplotlib.pyplot as plt\n",
    "train['dur_hr']=train['duration']/3600\n",
    "\n",
    "train['dur_hr'] = train['dur_hr'].values\n",
    "plt.hist(train['dur_hr'].values, bins=200)\n",
    "plt.xlabel('dur_hr')\n",
    "plt.ylabel('number of records')\n",
    "plt.show()"
   ]
  },
  {
   "cell_type": "code",
   "execution_count": 30,
   "metadata": {},
   "outputs": [
    {
     "data": {
      "image/png": "[encoded data removed]",
      "text/plain": [
       "<matplotlib.figure.Figure at 0x108f953d0>"
      ]
     },
     "metadata": {},
     "output_type": "display_data"
    }
   ],
   "source": [
    "#checking distribution of the dependent variable\n",
    "import matplotlib.pyplot as plt\n",
    "train['log_duration'] = np.log1p(train['duration'].values)\n",
    "plt.hist(train['log_duration'].values, bins=100)\n",
    "plt.xlabel('log_duration')\n",
    "plt.ylabel('number of records')\n",
    "plt.show()"
   ]
  },
  {
   "cell_type": "markdown",
   "metadata": {},
   "source": [
    "### log transformation is applied to reduce the skeweness."
   ]
  },
  {
   "cell_type": "code",
   "execution_count": 31,
   "metadata": {},
   "outputs": [
    {
     "data": {
      "image/png": "[encoded data removed]",
      "text/plain": [
       "<matplotlib.figure.Figure at 0x10d1cc910>"
      ]
     },
     "metadata": {},
     "output_type": "display_data"
    }
   ],
   "source": [
    "plt.figure(figsize=(8,6))\n",
    "plt.scatter(range(train.shape[0]), np.sort(train.log_duration.values))\n",
    "plt.xlabel('index', fontsize=12)\n",
    "plt.ylabel('log_duration', fontsize=12)\n",
    "plt.show()"
   ]
  },
  {
   "cell_type": "code",
   "execution_count": 49,
   "metadata": {},
   "outputs": [
    {
     "data": {
      "text/plain": [
       "4922"
      ]
     },
     "execution_count": 49,
     "metadata": {},
     "output_type": "execute_result"
    }
   ],
   "source": [
    "len(train[train['log_duration'] < 1.5])"
   ]
  },
  {
   "cell_type": "code",
   "execution_count": 50,
   "metadata": {},
   "outputs": [],
   "source": [
    "train = train[train['log_duration'] > 1.5]"
   ]
  },
  {
   "cell_type": "markdown",
   "metadata": {},
   "source": [
    "#### Since dates are given as part of the dataset, it is essential to check whether the train and test datasets are from the same time period or different time period.\n",
    "#### Validation as to do K-fold cross validation or doing K-fold cross validation with respect to time\n",
    "#### in this case we find that the train and test dataset are for the same time period. Hence, we can do K-fold cross validaton"
   ]
  },
  {
   "cell_type": "code",
   "execution_count": 298,
   "metadata": {},
   "outputs": [
    {
     "data": {
      "image/png": "[encoded data removed]",
      "text/plain": [
       "<matplotlib.figure.Figure at 0x11064da50>"
      ]
     },
     "metadata": {},
     "output_type": "display_data"
    }
   ],
   "source": [
    "train.loc[:, 'start_date'] = train['start_times'].dt.date\n",
    "test.loc[:, 'start_date'] = test['start_times'].dt.date\n",
    "\n",
    "plt.plot(train.groupby('start_date').count()[['row_id']], 'o-', label='train')\n",
    "plt.plot(test.groupby('start_date').count()[['row_id']], 'o-', label='test')\n",
    "plt.title('Train and test period complete overlap.')\n",
    "plt.legend(loc=0)\n",
    "plt.ylabel('number of records')\n",
    "plt.show()"
   ]
  },
  {
   "cell_type": "markdown",
   "metadata": {},
   "source": [
    "### feature engineering"
   ]
  },
  {
   "cell_type": "code",
   "execution_count": 51,
   "metadata": {},
   "outputs": [],
   "source": [
    "def haversine_array(lat1, lng1, lat2, lng2):\n",
    "    lat1, lng1, lat2, lng2 = map(np.radians, (lat1, lng1, lat2, lng2))\n",
    "    AVG_EARTH_RADIUS = 6371  # in km\n",
    "    lat = lat2 - lat1\n",
    "    lng = lng2 - lng1\n",
    "    d = np.sin(lat * 0.5) ** 2 + np.cos(lat1) * np.cos(lat2) * np.sin(lng * 0.5) ** 2\n",
    "    h = 2 * AVG_EARTH_RADIUS * np.arcsin(np.sqrt(d))\n",
    "    return h"
   ]
  },
  {
   "cell_type": "code",
   "execution_count": null,
   "metadata": {
    "collapsed": true
   },
   "outputs": [],
   "source": [
    "train.loc[:, 'distance_haversine'] = haversine_array(train['start_lat'].values, train['start_lng'].values, train['end_lat'].values, train['end_lng'].values)\n",
    "test.loc[:, 'distance_haversine'] = haversine_array(test['start_lat'].values, test['start_lng'].values, test['end_lat'].values, train['end_lng'].values)"
   ]
  },
  {
   "cell_type": "code",
   "execution_count": 54,
   "metadata": {},
   "outputs": [],
   "source": [
    "#Feature extraction from Datetime\n",
    "\n",
    "\n",
    "train['hour_pick']=train.start_times.dt.hour\n",
    "train['day_of_week']=train.start_times.dt.dayofweek\n",
    "train['day_of_month']=train.start_times.dt.days_in_month\n",
    "train['month']=train.start_times.dt.month\n",
    "train['is_night_time']=[1 if (i==0 or i>=19)  else 0 for i in train['start_times'].dt.hour]\n",
    "train['late_night_time']=[1 if (i<5 or i>0)  else 0 for i in train['start_times'].dt.hour]\n",
    "train['week']=train['start_times'].dt.week\n",
    "train['min_of_pick']=train['start_times'].dt.minute\n",
    "train['weather']=[1 if (i in [1,2,3]) else(2 if (i in [4,11,12]) else 3) for i in train['month']]\n",
    "train['quarter']=train.start_times.dt.quarter\n",
    "train['center_lat']=(train['end_lat']-train['start_lat'])/2\n",
    "train['center_long']=(train['end_lng']-train['start_lng'])/2\n",
    "train['pickup_hour_weekofyear'] = train['start_times'].dt.weekofyear\n",
    "train['pickup_week_hour'] = train['day_of_week'] * 24 + train['hour_pick']\n",
    "\n",
    "test['hour_pick']=test.start_times.dt.hour\n",
    "test['day_of_week']=test.start_times.dt.dayofweek\n",
    "test['day_of_month']=test.start_times.dt.days_in_month\n",
    "test['month']=test.start_times.dt.month\n",
    "test['is_night_time']=[1 if (i==0 or i>=19)  else 0 for i in test['start_times'].dt.hour]\n",
    "test['late_night_time']=[1 if (i<5 or i>0)  else 0 for i in test['start_times'].dt.hour]\n",
    "test['week']=test['start_times'].dt.week\n",
    "test['min_of_pick']=train['start_times'].dt.minute\n",
    "test['weather']=[1 if (i in [1,2,3]) else(2 if (i in [4,11,12]) else 3) for i in test['month']]\n",
    "test['quarter']=test.start_times.dt.quarter\n",
    "test['center_lat']=(test['end_lat']-test['start_lat'])/2\n",
    "test['center_long']=(test['end_lng']-test['start_lng'])/2\n",
    "test['pickup_hour_weekofyear'] = test['start_times'].dt.weekofyear\n",
    "test['pickup_week_hour'] = test['day_of_week'] * 24 + test['hour_pick']\n",
    "\n",
    "\n",
    "\n",
    "# difference between pickup and dropoff latitudes #\n",
    "train['lat_diff'] = train['start_lat'] - train['end_lat']\n",
    "train['lon_diff'] = train['start_lng'] - train['end_lng']\n",
    "\n",
    "\n",
    "# difference between pickup and dropoff longitudes #\n",
    "test['lon_diff'] = test['start_lng'] - test['end_lng']\n",
    "test['lat_diff'] = test['start_lat'] - test['end_lat']\n",
    "\n",
    "\n"
   ]
  },
  {
   "cell_type": "code",
   "execution_count": 55,
   "metadata": {
    "collapsed": true
   },
   "outputs": [],
   "source": [
    "from sklearn.cluster import MiniBatchKMeans\n",
    "coords = np.vstack((train[['start_lat', 'start_lng']].values,\n",
    "                    train[['end_lat', 'end_lng']].values))\n",
    "sample_ind = np.random.permutation(len(coords))\n",
    "kmeans = MiniBatchKMeans(n_clusters=90, batch_size=10000).fit(coords[sample_ind])"
   ]
  },
  {
   "cell_type": "code",
   "execution_count": 56,
   "metadata": {
    "collapsed": true
   },
   "outputs": [],
   "source": [
    "train.loc[:, 'start_cluster'] = kmeans.predict(train[['start_lat', 'start_lng']])\n",
    "train.loc[:, 'end_cluster'] = kmeans.predict(train[['end_lat', 'end_lng']])\n"
   ]
  },
  {
   "cell_type": "code",
   "execution_count": 57,
   "metadata": {
    "collapsed": true
   },
   "outputs": [],
   "source": [
    "test.loc[:, 'start_cluster'] = kmeans.predict(test[['start_lat', 'start_lng']])\n",
    "test.loc[:, 'end_cluster'] = kmeans.predict(test[['end_lat', 'end_lng']])"
   ]
  },
  {
   "cell_type": "code",
   "execution_count": 58,
   "metadata": {},
   "outputs": [],
   "source": [
    "coords = np.vstack((train[['start_lat', 'start_lng']].values,\n",
    "                    train[['end_lat', 'end_lng']].values,\n",
    "                    test[['start_lat', 'start_lng']].values,\n",
    "                    test[['end_lat', 'end_lng']].values))\n",
    "\n",
    "from sklearn.decomposition import PCA\n",
    "pca = PCA().fit(coords)\n",
    "train['start_pca0'] = pca.transform(train[['start_lat', 'start_lng']])[:, 0]\n",
    "train['start_pca1'] = pca.transform(train[['start_lat', 'start_lng']])[:, 1]\n",
    "train['end_pca0'] = pca.transform(train[['end_lat', 'end_lng']])[:, 0]\n",
    "train['end_pca1'] = pca.transform(train[['end_lat', 'end_lng']])[:, 1]\n",
    "test['start_pca0'] = pca.transform(test[['start_lat', 'start_lng']])[:, 0]\n",
    "test['start_pca1'] = pca.transform(test[['start_lat', 'start_lng']])[:, 1]\n",
    "test['end_pca0'] = pca.transform(test[['end_lat', 'end_lng']])[:, 0]\n",
    "test['end_pca1'] = pca.transform(test[['end_lat', 'end_lng']])[:, 1]\n",
    "\n"
   ]
  },
  {
   "cell_type": "code",
   "execution_count": 89,
   "metadata": {},
   "outputs": [
    {
     "data": {
      "text/html": [
       "<div>\n",
       "<table border=\"1\" class=\"dataframe\">\n",
       "  <thead>\n",
       "    <tr style=\"text-align: right;\">\n",
       "      <th></th>\n",
       "      <th>row_id</th>\n",
       "      <th>start_lng</th>\n",
       "      <th>start_lat</th>\n",
       "      <th>end_lng</th>\n",
       "      <th>end_lat</th>\n",
       "      <th>start_timestamp</th>\n",
       "      <th>duration</th>\n",
       "      <th>start_times</th>\n",
       "      <th>dur_hr</th>\n",
       "      <th>log_duration</th>\n",
       "      <th>distance_haversine</th>\n",
       "      <th>hour_pick</th>\n",
       "      <th>day_of_week</th>\n",
       "      <th>day_of_month</th>\n",
       "      <th>month</th>\n",
       "      <th>is_night_time</th>\n",
       "      <th>late_night_time</th>\n",
       "      <th>week</th>\n",
       "      <th>min_of_pick</th>\n",
       "      <th>weather</th>\n",
       "      <th>quarter</th>\n",
       "      <th>center_lat</th>\n",
       "      <th>center_long</th>\n",
       "      <th>pickup_hour_weekofyear</th>\n",
       "      <th>pickup_week_hour</th>\n",
       "      <th>lat_diff</th>\n",
       "      <th>lon_diff</th>\n",
       "      <th>start_cluster</th>\n",
       "      <th>end_cluster</th>\n",
       "      <th>start_pca0</th>\n",
       "      <th>start_pca1</th>\n",
       "      <th>end_pca0</th>\n",
       "      <th>end_pca1</th>\n",
       "    </tr>\n",
       "  </thead>\n",
       "  <tbody>\n",
       "    <tr>\n",
       "      <th>0</th>\n",
       "      <td>0</td>\n",
       "      <td>-74.009087</td>\n",
       "      <td>40.713818</td>\n",
       "      <td>-74.004326</td>\n",
       "      <td>40.719986</td>\n",
       "      <td>1420950819</td>\n",
       "      <td>112</td>\n",
       "      <td>2015-01-11 04:33:39</td>\n",
       "      <td>0.031111</td>\n",
       "      <td>4.727388</td>\n",
       "      <td>0.794604</td>\n",
       "      <td>4</td>\n",
       "      <td>6</td>\n",
       "      <td>31</td>\n",
       "      <td>1</td>\n",
       "      <td>0</td>\n",
       "      <td>1</td>\n",
       "      <td>2</td>\n",
       "      <td>33</td>\n",
       "      <td>1</td>\n",
       "      <td>1</td>\n",
       "      <td>0.003084</td>\n",
       "      <td>0.002380</td>\n",
       "      <td>2</td>\n",
       "      <td>148</td>\n",
       "      <td>-0.006168</td>\n",
       "      <td>-0.004761</td>\n",
       "      <td>3</td>\n",
       "      <td>67</td>\n",
       "      <td>-0.034492</td>\n",
       "      <td>0.038033</td>\n",
       "      <td>-0.029877</td>\n",
       "      <td>0.031756</td>\n",
       "    </tr>\n",
       "    <tr>\n",
       "      <th>1</th>\n",
       "      <td>1</td>\n",
       "      <td>-73.971176</td>\n",
       "      <td>40.762428</td>\n",
       "      <td>-74.004181</td>\n",
       "      <td>40.742653</td>\n",
       "      <td>1420950819</td>\n",
       "      <td>1159</td>\n",
       "      <td>2015-01-11 04:33:39</td>\n",
       "      <td>0.321944</td>\n",
       "      <td>7.056175</td>\n",
       "      <td>3.544615</td>\n",
       "      <td>4</td>\n",
       "      <td>6</td>\n",
       "      <td>31</td>\n",
       "      <td>1</td>\n",
       "      <td>0</td>\n",
       "      <td>1</td>\n",
       "      <td>2</td>\n",
       "      <td>33</td>\n",
       "      <td>1</td>\n",
       "      <td>1</td>\n",
       "      <td>-0.009887</td>\n",
       "      <td>-0.016503</td>\n",
       "      <td>2</td>\n",
       "      <td>148</td>\n",
       "      <td>0.019775</td>\n",
       "      <td>0.033005</td>\n",
       "      <td>62</td>\n",
       "      <td>31</td>\n",
       "      <td>0.002273</td>\n",
       "      <td>-0.011449</td>\n",
       "      <td>-0.030261</td>\n",
       "      <td>0.009091</td>\n",
       "    </tr>\n",
       "    <tr>\n",
       "      <th>2</th>\n",
       "      <td>2</td>\n",
       "      <td>-73.994957</td>\n",
       "      <td>40.745079</td>\n",
       "      <td>-73.999939</td>\n",
       "      <td>40.734650</td>\n",
       "      <td>1421377541</td>\n",
       "      <td>281</td>\n",
       "      <td>2015-01-16 03:05:41</td>\n",
       "      <td>0.078056</td>\n",
       "      <td>5.641907</td>\n",
       "      <td>1.233276</td>\n",
       "      <td>3</td>\n",
       "      <td>4</td>\n",
       "      <td>31</td>\n",
       "      <td>1</td>\n",
       "      <td>0</td>\n",
       "      <td>1</td>\n",
       "      <td>3</td>\n",
       "      <td>5</td>\n",
       "      <td>1</td>\n",
       "      <td>1</td>\n",
       "      <td>-0.005214</td>\n",
       "      <td>-0.002491</td>\n",
       "      <td>3</td>\n",
       "      <td>99</td>\n",
       "      <td>0.010429</td>\n",
       "      <td>0.004982</td>\n",
       "      <td>76</td>\n",
       "      <td>6</td>\n",
       "      <td>-0.021096</td>\n",
       "      <td>0.006451</td>\n",
       "      <td>-0.025833</td>\n",
       "      <td>0.016993</td>\n",
       "    </tr>\n",
       "    <tr>\n",
       "      <th>3</th>\n",
       "      <td>3</td>\n",
       "      <td>-73.991127</td>\n",
       "      <td>40.750080</td>\n",
       "      <td>-73.988609</td>\n",
       "      <td>40.734890</td>\n",
       "      <td>1421377542</td>\n",
       "      <td>636</td>\n",
       "      <td>2015-01-16 03:05:42</td>\n",
       "      <td>0.176667</td>\n",
       "      <td>6.456770</td>\n",
       "      <td>1.702320</td>\n",
       "      <td>3</td>\n",
       "      <td>4</td>\n",
       "      <td>31</td>\n",
       "      <td>1</td>\n",
       "      <td>0</td>\n",
       "      <td>1</td>\n",
       "      <td>3</td>\n",
       "      <td>5</td>\n",
       "      <td>1</td>\n",
       "      <td>1</td>\n",
       "      <td>-0.007595</td>\n",
       "      <td>0.001259</td>\n",
       "      <td>3</td>\n",
       "      <td>99</td>\n",
       "      <td>0.015190</td>\n",
       "      <td>-0.002518</td>\n",
       "      <td>18</td>\n",
       "      <td>29</td>\n",
       "      <td>-0.017384</td>\n",
       "      <td>0.001361</td>\n",
       "      <td>-0.014512</td>\n",
       "      <td>0.016489</td>\n",
       "    </tr>\n",
       "    <tr>\n",
       "      <th>4</th>\n",
       "      <td>4</td>\n",
       "      <td>-73.945511</td>\n",
       "      <td>40.773724</td>\n",
       "      <td>-73.987434</td>\n",
       "      <td>40.755707</td>\n",
       "      <td>1422173586</td>\n",
       "      <td>705</td>\n",
       "      <td>2015-01-25 08:13:06</td>\n",
       "      <td>0.195833</td>\n",
       "      <td>6.559615</td>\n",
       "      <td>4.059491</td>\n",
       "      <td>8</td>\n",
       "      <td>6</td>\n",
       "      <td>31</td>\n",
       "      <td>1</td>\n",
       "      <td>0</td>\n",
       "      <td>1</td>\n",
       "      <td>4</td>\n",
       "      <td>13</td>\n",
       "      <td>1</td>\n",
       "      <td>1</td>\n",
       "      <td>-0.009009</td>\n",
       "      <td>-0.020961</td>\n",
       "      <td>4</td>\n",
       "      <td>152</td>\n",
       "      <td>0.018017</td>\n",
       "      <td>0.041923</td>\n",
       "      <td>79</td>\n",
       "      <td>87</td>\n",
       "      <td>0.027667</td>\n",
       "      <td>-0.023342</td>\n",
       "      <td>-0.013824</td>\n",
       "      <td>-0.004350</td>\n",
       "    </tr>\n",
       "  </tbody>\n",
       "</table>\n",
       "</div>"
      ],
      "text/plain": [
       "   row_id  start_lng  start_lat    end_lng    end_lat  start_timestamp  \\\n",
       "0       0 -74.009087  40.713818 -74.004326  40.719986       1420950819   \n",
       "1       1 -73.971176  40.762428 -74.004181  40.742653       1420950819   \n",
       "2       2 -73.994957  40.745079 -73.999939  40.734650       1421377541   \n",
       "3       3 -73.991127  40.750080 -73.988609  40.734890       1421377542   \n",
       "4       4 -73.945511  40.773724 -73.987434  40.755707       1422173586   \n",
       "\n",
       "   duration         start_times    dur_hr  log_duration  distance_haversine  \\\n",
       "0       112 2015-01-11 04:33:39  0.031111      4.727388            0.794604   \n",
       "1      1159 2015-01-11 04:33:39  0.321944      7.056175            3.544615   \n",
       "2       281 2015-01-16 03:05:41  0.078056      5.641907            1.233276   \n",
       "3       636 2015-01-16 03:05:42  0.176667      6.456770            1.702320   \n",
       "4       705 2015-01-25 08:13:06  0.195833      6.559615            4.059491   \n",
       "\n",
       "   hour_pick  day_of_week  day_of_month  month  is_night_time  \\\n",
       "0          4            6            31      1              0   \n",
       "1          4            6            31      1              0   \n",
       "2          3            4            31      1              0   \n",
       "3          3            4            31      1              0   \n",
       "4          8            6            31      1              0   \n",
       "\n",
       "   late_night_time  week  min_of_pick  weather  quarter  center_lat  \\\n",
       "0                1     2           33        1        1    0.003084   \n",
       "1                1     2           33        1        1   -0.009887   \n",
       "2                1     3            5        1        1   -0.005214   \n",
       "3                1     3            5        1        1   -0.007595   \n",
       "4                1     4           13        1        1   -0.009009   \n",
       "\n",
       "   center_long  pickup_hour_weekofyear  pickup_week_hour  lat_diff  lon_diff  \\\n",
       "0     0.002380                       2               148 -0.006168 -0.004761   \n",
       "1    -0.016503                       2               148  0.019775  0.033005   \n",
       "2    -0.002491                       3                99  0.010429  0.004982   \n",
       "3     0.001259                       3                99  0.015190 -0.002518   \n",
       "4    -0.020961                       4               152  0.018017  0.041923   \n",
       "\n",
       "   start_cluster  end_cluster  start_pca0  start_pca1  end_pca0  end_pca1  \n",
       "0              3           67   -0.034492    0.038033 -0.029877  0.031756  \n",
       "1             62           31    0.002273   -0.011449 -0.030261  0.009091  \n",
       "2             76            6   -0.021096    0.006451 -0.025833  0.016993  \n",
       "3             18           29   -0.017384    0.001361 -0.014512  0.016489  \n",
       "4             79           87    0.027667   -0.023342 -0.013824 -0.004350  "
      ]
     },
     "execution_count": 89,
     "metadata": {},
     "output_type": "execute_result"
    }
   ],
   "source": [
    "train.head()"
   ]
  },
  {
   "cell_type": "code",
   "execution_count": 90,
   "metadata": {},
   "outputs": [],
   "source": [
    "# drop off the variables which are not needed #\n",
    "cols_to_drop = ['row_id', 'start_timestamp', 'start_times']\n",
    "train_id = train['row_id'].values\n",
    "test_id = test['row_id'].values\n",
    "\n",
    "train_y = train.log_duration.values\n",
    "train_X = train.drop(cols_to_drop + ['duration', 'log_duration','dur_hr'], axis=1)\n",
    "test_X = test.drop(cols_to_drop, axis=1)"
   ]
  },
  {
   "cell_type": "code",
   "execution_count": null,
   "metadata": {},
   "outputs": [
    {
     "name": "stderr",
     "output_type": "stream",
     "text": [
      "Will train until valid error hasn't decreased in 5 rounds.\n",
      "[0]\ttrain-rmse:5.806481\tvalid-rmse:5.840171\n",
      "[1]\ttrain-rmse:5.662603\tvalid-rmse:5.668145\n",
      "[2]\ttrain-rmse:5.525101\tvalid-rmse:5.501204\n",
      "[3]\ttrain-rmse:5.388213\tvalid-rmse:5.339576\n",
      "[4]\ttrain-rmse:5.245436\tvalid-rmse:5.182840\n",
      "[5]\ttrain-rmse:5.093254\tvalid-rmse:5.031113\n",
      "[6]\ttrain-rmse:4.930069\tvalid-rmse:4.883980\n",
      "[7]\ttrain-rmse:4.755065\tvalid-rmse:4.741445\n",
      "[8]\ttrain-rmse:4.575257\tvalid-rmse:4.603424\n",
      "[9]\ttrain-rmse:4.428880\tvalid-rmse:4.469673\n",
      "[10]\ttrain-rmse:4.294669\tvalid-rmse:4.340116\n",
      "[11]\ttrain-rmse:4.170174\tvalid-rmse:4.214635\n",
      "[12]\ttrain-rmse:4.055292\tvalid-rmse:4.093098\n",
      "[13]\ttrain-rmse:3.947826\tvalid-rmse:3.975342\n",
      "[14]\ttrain-rmse:3.845122\tvalid-rmse:3.861289\n",
      "[15]\ttrain-rmse:3.743999\tvalid-rmse:3.750829\n",
      "[16]\ttrain-rmse:3.641571\tvalid-rmse:3.643992\n",
      "[17]\ttrain-rmse:3.536760\tvalid-rmse:3.540447\n",
      "[18]\ttrain-rmse:3.427444\tvalid-rmse:3.440280\n",
      "[19]\ttrain-rmse:3.314791\tvalid-rmse:3.343229\n",
      "[20]\ttrain-rmse:3.204371\tvalid-rmse:3.249414\n",
      "[21]\ttrain-rmse:3.107225\tvalid-rmse:3.158587\n",
      "[22]\ttrain-rmse:3.014936\tvalid-rmse:3.070829\n",
      "[23]\ttrain-rmse:2.927634\tvalid-rmse:2.985918\n",
      "[24]\ttrain-rmse:2.844814\tvalid-rmse:2.903679\n",
      "[25]\ttrain-rmse:2.766222\tvalid-rmse:2.824197\n",
      "[26]\ttrain-rmse:2.690274\tvalid-rmse:2.747314\n",
      "[27]\ttrain-rmse:2.616472\tvalid-rmse:2.672949\n",
      "[28]\ttrain-rmse:2.543593\tvalid-rmse:2.601198\n",
      "[29]\ttrain-rmse:2.471199\tvalid-rmse:2.531860\n",
      "[30]\ttrain-rmse:2.398122\tvalid-rmse:2.464846\n",
      "[31]\ttrain-rmse:2.325600\tvalid-rmse:2.400133\n",
      "[32]\ttrain-rmse:2.255671\tvalid-rmse:2.337470\n",
      "[33]\ttrain-rmse:2.190900\tvalid-rmse:2.277229\n",
      "[34]\ttrain-rmse:2.128774\tvalid-rmse:2.218961\n",
      "[35]\ttrain-rmse:2.068978\tvalid-rmse:2.162748\n",
      "[36]\ttrain-rmse:2.011573\tvalid-rmse:2.108588\n",
      "[37]\ttrain-rmse:1.956216\tvalid-rmse:2.056288\n",
      "[38]\ttrain-rmse:1.902620\tvalid-rmse:2.005824\n",
      "[39]\ttrain-rmse:1.850518\tvalid-rmse:1.957205\n",
      "[40]\ttrain-rmse:1.799762\tvalid-rmse:1.910343\n",
      "[41]\ttrain-rmse:1.750186\tvalid-rmse:1.865371\n",
      "[42]\ttrain-rmse:1.701765\tvalid-rmse:1.822027\n",
      "[43]\ttrain-rmse:1.654559\tvalid-rmse:1.780302\n",
      "[44]\ttrain-rmse:1.609487\tvalid-rmse:1.740104\n",
      "[45]\ttrain-rmse:1.566058\tvalid-rmse:1.701398\n",
      "[46]\ttrain-rmse:1.524204\tvalid-rmse:1.664279\n",
      "[47]\ttrain-rmse:1.483725\tvalid-rmse:1.628649\n",
      "[48]\ttrain-rmse:1.444870\tvalid-rmse:1.594418\n"
     ]
    }
   ],
   "source": [
    "    params = {}\n",
    "    params['objective'] = 'reg:linear'\n",
    "    params['eval_metric'] = 'rmse'\n",
    "    params['eta'] = 0.03\n",
    "    params['max_depth'] = 4\n",
    "    params['subsample'] = 0.7\n",
    "    params['nthread'] = -1\n",
    "\n",
    "    d_train = xgb.DMatrix(train_X, label=train_y)\n",
    "    d_valid = xgb.DMatrix(val_X, label=val_y)\n",
    "    xgval = xgb.DMatrix(val_X, label = val_y)\n",
    "    xgtest = xgb.DMatrix(test_X)\n",
    "\n",
    "    watchlist = [(d_train, 'train'), (d_valid, 'valid')]\n",
    "\n",
    "    model = xgb.train(params, d_train, 100, watchlist, early_stopping_rounds=5)\n",
    "    pred_val = model.predict(xgval)\n",
    "    pred_test = model.predict(xgtest)\n",
    "\n",
    "   \n"
   ]
  },
  {
   "cell_type": "code",
   "execution_count": null,
   "metadata": {},
   "outputs": [],
   "source": [
    "xgtest = xgb.DMatrix(test_X)\n",
    "pred_test = model.predict(xgtest)\n",
    "test['duration'] = pd.DataFrame(pred_test)"
   ]
  },
  {
   "cell_type": "markdown",
   "metadata": {},
   "source": [
    "test.to_csv('test_xbg.csv')"
   ]
  },
  {
   "cell_type": "markdown",
   "metadata": {},
   "source": [
    "### from the above catboost and xgboost techniques implemented catboost with 5 fold validation performed better.\n",
    "### With more time and resources I could fine tune the xgboost model and run 1000 num_rounds for better test RMSE"
   ]
  },
  {
   "cell_type": "code",
   "execution_count": null,
   "metadata": {
    "collapsed": true
   },
   "outputs": [],
   "source": []
  }
 ],
 "metadata": {
  "kernelspec": {
   "display_name": "Python 2",
   "language": "python",
   "name": "python2"
  }
 },
 "nbformat": 4,
 "nbformat_minor": 2
}
